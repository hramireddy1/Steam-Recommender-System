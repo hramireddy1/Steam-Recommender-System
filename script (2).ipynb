{
 "cells": [
  {
   "cell_type": "code",
   "execution_count": null,
   "id": "6e063eb0-6d4f-402e-ad0c-abec269b9ce2",
   "metadata": {},
   "outputs": [],
   "source": [
    "import gzip\n",
    "import random\n",
    "import scipy\n",
    "from collections import defaultdict\n",
    "import re\n",
    "import string\n",
    "\n",
    "from gensim.models import Word2Vec\n",
    "from nltk.stem.porter import *\n",
    "from sklearn import linear_model\n",
    "from sklearn.manifold import TSNE\n",
    "from sklearn import linear_model\n",
    "from implicit import bpr\n",
    "from surprise import SVD, Reader, Dataset\n",
    "from surprise.model_selection import train_test_split"
   ]
  },
  {
   "cell_type": "code",
   "execution_count": null,
   "id": "2266caaa-a85e-4867-b5f2-c45d85194ecd",
   "metadata": {},
   "outputs": [],
   "source": []
  },
  {
   "cell_type": "code",
   "execution_count": 2,
   "id": "60c98fc6-9bef-4daa-b2d0-a86469cdfc04",
   "metadata": {},
   "outputs": [],
   "source": [
    "def parseData(fname):\n",
    "    for l in gzip.open(fname):\n",
    "        d = eval(l)\n",
    "        yield d"
   ]
  },
  {
   "cell_type": "markdown",
   "id": "3d4797a8-31da-4693-b7bd-2e9979fde5f1",
   "metadata": {},
   "source": [
    "### User Reviews"
   ]
  },
  {
   "cell_type": "code",
   "execution_count": 6,
   "id": "c68603d9-adbf-4205-868e-0746c7a1e7f2",
   "metadata": {},
   "outputs": [],
   "source": [
    "user_reviews = list(parseData(\"australian_user_reviews.json.gz\"))"
   ]
  },
  {
   "cell_type": "code",
   "execution_count": null,
   "id": "dcce1c00-1d3a-4bbb-9a9f-dc437a6beab0",
   "metadata": {},
   "outputs": [],
   "source": [
    "user_reviews[0]"
   ]
  },
  {
   "cell_type": "code",
   "execution_count": 31,
   "id": "90a64856-b290-438b-94ad-189899313bc0",
   "metadata": {},
   "outputs": [
    {
     "data": {
      "text/plain": [
       "[('1250',\n",
       "  bool,\n",
       "  'Simple yet with great replayability. In my opinion does \"zombie\" hordes and team work better than left 4 dead plus has a global leveling system. Alot of down to earth \"zombie\" splattering fun for the whole family. Amazed this sort of FPS is so rare.'),\n",
       " ('22200', bool, \"It's unique and worth a playthrough.\"),\n",
       " ('43110',\n",
       "  bool,\n",
       "  'Great atmosphere. The gunplay can be a bit chunky at times but at the end of the day this game is definitely worth it and I hope they do a sequel...so buy the game so I get a sequel!')]"
      ]
     },
     "execution_count": 31,
     "metadata": {},
     "output_type": "execute_result"
    }
   ],
   "source": [
    "[(x['item_id'],type(x['recommend']),x['review']) for x in user_reviews[0]['reviews']]"
   ]
  },
  {
   "cell_type": "code",
   "execution_count": 24,
   "id": "cc2398c1-f4ba-4309-97ae-8a193f852bbd",
   "metadata": {},
   "outputs": [
    {
     "data": {
      "text/plain": [
       "25799"
      ]
     },
     "execution_count": 24,
     "metadata": {},
     "output_type": "execute_result"
    }
   ],
   "source": [
    "len(user_reviews)"
   ]
  },
  {
   "cell_type": "code",
   "execution_count": null,
   "id": "3c3573d7-72d9-432d-90f8-303e19ce1c27",
   "metadata": {},
   "outputs": [],
   "source": []
  },
  {
   "cell_type": "code",
   "execution_count": 197,
   "id": "4fedcf88-2f0d-4861-9c2c-8475bf36f775",
   "metadata": {},
   "outputs": [],
   "source": [
    "usersPerItem = defaultdict(set) \n",
    "itemsPerUser = defaultdict(set) \n",
    "reviewDict = {} \n",
    "helpful = []\n",
    "helpfulDict = {}\n",
    "reviewsText = {}"
   ]
  },
  {
   "cell_type": "code",
   "execution_count": 198,
   "id": "1befb7ca-91c8-4bf5-93bf-73645bc31b87",
   "metadata": {},
   "outputs": [],
   "source": [
    "for user_review in user_reviews:\n",
    "    reviews = [review for review in user_review['reviews']]\n",
    "    for review in reviews:\n",
    "        user, item = user_review['user_id'], review['item_id']\n",
    "        usersPerItem[item].add(user)\n",
    "        itemsPerUser[user].add(item)\n",
    "        reviewDict[(user,item)] = 1 if review['recommend'] else 0\n",
    "        reviewsText[(user,item)] = review['review']\n",
    "        if review['helpful'] != 'No ratings yet':\n",
    "            helpfulDict[(user,item)] = re.findall('(\\d*)%',review['helpful'])[0]\n",
    "        helpful.append(review['helpful'])"
   ]
  },
  {
   "cell_type": "code",
   "execution_count": 199,
   "id": "206611f7-9735-48b1-9d9b-11aaede5749b",
   "metadata": {},
   "outputs": [],
   "source": [
    "reviewsPerUser = defaultdict(list)\n",
    "reviewsPerItem = defaultdict(list)"
   ]
  },
  {
   "cell_type": "code",
   "execution_count": 200,
   "id": "5d86ac1d-49b9-4bb5-8991-b3240d6c989e",
   "metadata": {},
   "outputs": [],
   "source": [
    "for user_review in user_reviews:\n",
    "    reviews = [review for review in user_review['reviews']]\n",
    "    for review in reviews:\n",
    "        user, item = user_review['user_id'], review['item_id']\n",
    "        reviewsPerUser[user].append(review['review'])\n",
    "        reviewsPerItem[item].append(review['review'])"
   ]
  },
  {
   "cell_type": "code",
   "execution_count": 201,
   "id": "94d93eba-886e-4188-a95f-4077e4997f96",
   "metadata": {},
   "outputs": [
    {
     "data": {
      "text/plain": [
       "28699"
      ]
     },
     "execution_count": 201,
     "metadata": {},
     "output_type": "execute_result"
    }
   ],
   "source": [
    "len(helpfulDict)"
   ]
  },
  {
   "cell_type": "code",
   "execution_count": 202,
   "id": "6bb138fc-4fbb-4cfd-ace9-bb76d54a7e92",
   "metadata": {},
   "outputs": [
    {
     "data": {
      "text/plain": [
       "29732"
      ]
     },
     "execution_count": 202,
     "metadata": {},
     "output_type": "execute_result"
    }
   ],
   "source": [
    "len(reviewDict) - len(helpfulDict)"
   ]
  },
  {
   "cell_type": "code",
   "execution_count": 110,
   "id": "5c670487-19e4-4e56-b12f-26fecf097458",
   "metadata": {},
   "outputs": [],
   "source": [
    "recommend = 0\n",
    "dont_recommend = 0\n",
    "for val in reviewDict.values():\n",
    "    if val==1:\n",
    "        recommend += 1\n",
    "    else:\n",
    "        dont_recommend += 1\n",
    "        "
   ]
  },
  {
   "cell_type": "code",
   "execution_count": 111,
   "id": "35e9518c-9bd5-48c4-82db-3188984fb08b",
   "metadata": {},
   "outputs": [
    {
     "data": {
      "text/plain": [
       "51692"
      ]
     },
     "execution_count": 111,
     "metadata": {},
     "output_type": "execute_result"
    }
   ],
   "source": [
    "recommend"
   ]
  },
  {
   "cell_type": "code",
   "execution_count": 112,
   "id": "2f3e9bd2-096e-482e-b56c-5d5ec4f4da8f",
   "metadata": {},
   "outputs": [
    {
     "data": {
      "text/plain": [
       "6739"
      ]
     },
     "execution_count": 112,
     "metadata": {},
     "output_type": "execute_result"
    }
   ],
   "source": [
    "dont_recommend"
   ]
  },
  {
   "cell_type": "code",
   "execution_count": 113,
   "id": "4f0486af-ec5a-4aa6-8499-f8d785bae365",
   "metadata": {},
   "outputs": [
    {
     "data": {
      "text/plain": [
       "58431"
      ]
     },
     "execution_count": 113,
     "metadata": {},
     "output_type": "execute_result"
    }
   ],
   "source": [
    "51692 + 6739"
   ]
  },
  {
   "cell_type": "code",
   "execution_count": 121,
   "id": "0c1fd6e9-bdfc-44bb-803a-99243d0c0ee3",
   "metadata": {},
   "outputs": [
    {
     "data": {
      "image/png": "[encoded data removed]",
      "text/plain": [
       "<Figure size 1000x500 with 1 Axes>"
      ]
     },
     "metadata": {},
     "output_type": "display_data"
    }
   ],
   "source": [
    "import numpy as np\n",
    "import matplotlib.pyplot as plt\n",
    " \n",
    "  \n",
    "# creating the dataset\n",
    "data = {'Recommend':recommend, \"Don't Recommend\":dont_recommend}\n",
    "x = list(data.keys())\n",
    "y = list(data.values())\n",
    "  \n",
    "fig = plt.figure(figsize = (10, 5))\n",
    " \n",
    "# creating the bar plot\n",
    "plt.bar(x, y, color =['lightblue','grey'])\n",
    " \n",
    "plt.xlabel(\"Review by User\")\n",
    "plt.ylabel(\"Count of reviews\")\n",
    "plt.title(\"Number of Reviews vs Sentiment of Review\")\n",
    "plt.show()"
   ]
  },
  {
   "cell_type": "markdown",
   "id": "0ee82272-9955-444a-b524-6eaed32a97e9",
   "metadata": {},
   "source": [
    "#### Given the review text, classify if the user would have recommended or not recommended the game"
   ]
  },
  {
   "cell_type": "code",
   "execution_count": 295,
   "id": "ad27f093-a999-4aaa-8138-d559711bb588",
   "metadata": {},
   "outputs": [],
   "source": [
    "wordCount = defaultdict(int)\n",
    "punctuation = set(string.punctuation)"
   ]
  },
  {
   "cell_type": "code",
   "execution_count": 296,
   "id": "4e6bf614-145a-418f-a85a-dc9969da60b9",
   "metadata": {},
   "outputs": [],
   "source": [
    "for reviewtext in list(reviewsText.values()):\n",
    "    r = ''.join([c for c in reviewtext.lower() if not c in punctuation])\n",
    "    for w in r.split():\n",
    "            wordCount[w] += 1\n",
    "\n",
    "counts = [(wordCount[w],w) for w in wordCount]\n",
    "counts.sort()\n",
    "counts.reverse()"
   ]
  },
  {
   "cell_type": "code",
   "execution_count": 297,
   "id": "ecac33a5-bfce-4722-8b26-af009b87e5d6",
   "metadata": {},
   "outputs": [],
   "source": [
    "words = [x[1] for x in counts[:2000]]"
   ]
  },
  {
   "cell_type": "code",
   "execution_count": 298,
   "id": "64dc4e26-dcb1-4425-abaa-7c45fe0f8198",
   "metadata": {},
   "outputs": [],
   "source": [
    "wordId = dict(zip(words, range(len(words))))\n",
    "wordSet = set(words)"
   ]
  },
  {
   "cell_type": "code",
   "execution_count": 299,
   "id": "f7d42026-e617-426f-b96c-7642579686e3",
   "metadata": {},
   "outputs": [],
   "source": [
    "def feature(datum):\n",
    "    feat = [0]*len(words)\n",
    "    r = ''.join([c for c in datum.lower() if not c in punctuation])\n",
    "    for w in r.split():\n",
    "        if w in words:\n",
    "            feat[wordId[w]] += 1\n",
    "    feat.append(1) # offset\n",
    "    return feat"
   ]
  },
  {
   "cell_type": "code",
   "execution_count": 300,
   "id": "21ea6149-d7ab-4ded-8486-f11e5bfb24ae",
   "metadata": {},
   "outputs": [],
   "source": [
    "X = [feature(d) for d in list(reviewsText.values())]\n",
    "y = [d for d in list(reviewDict.values())]"
   ]
  },
  {
   "cell_type": "code",
   "execution_count": 301,
   "id": "dbbc04d1-8aaa-4286-b84f-c6677484fc3e",
   "metadata": {},
   "outputs": [
    {
     "name": "stderr",
     "output_type": "stream",
     "text": [
      "/opt/conda/lib/python3.10/site-packages/sklearn/linear_model/_logistic.py:444: ConvergenceWarning: lbfgs failed to converge (status=1):\n",
      "STOP: TOTAL NO. of ITERATIONS REACHED LIMIT.\n",
      "\n",
      "Increase the number of iterations (max_iter) or scale the data as shown in:\n",
      "    https://scikit-learn.org/stable/modules/preprocessing.html\n",
      "Please also refer to the documentation for alternative solver options:\n",
      "    https://scikit-learn.org/stable/modules/linear_model.html#logistic-regression\n",
      "  n_iter_i = _check_optimize_result(\n"
     ]
    }
   ],
   "source": [
    "mod = linear_model.LogisticRegression(C=1,class_weight='balanced')\n",
    "mod.fit(X,y)\n",
    "predictions = mod.predict(X)"
   ]
  },
  {
   "cell_type": "code",
   "execution_count": 217,
   "id": "8aff7ea4-9602-4425-98ec-3ed32efb37c4",
   "metadata": {},
   "outputs": [
    {
     "data": {
      "text/plain": [
       "13167"
      ]
     },
     "execution_count": 217,
     "metadata": {},
     "output_type": "execute_result"
    }
   ],
   "source": [
    "len(predictions) - sum(predictions)"
   ]
  },
  {
   "cell_type": "code",
   "execution_count": 302,
   "id": "a4ee515a-1ba6-46ee-b353-fa0a2bfd3c97",
   "metadata": {},
   "outputs": [
    {
     "data": {
      "text/plain": [
       "0.8634800020537043"
      ]
     },
     "execution_count": 302,
     "metadata": {},
     "output_type": "execute_result"
    }
   ],
   "source": [
    "correct = predictions == y\n",
    "sum(correct) / len(correct)"
   ]
  },
  {
   "cell_type": "code",
   "execution_count": 303,
   "id": "85ab9382-3e01-4fed-80e8-214fd24f9a09",
   "metadata": {},
   "outputs": [],
   "source": [
    "TP = sum([(p and l) for (p,l) in zip(predictions, y)])\n",
    "FP = sum([(p and not l) for (p,l) in zip(predictions, y)])\n",
    "TN = sum([(not p and not l) for (p,l) in zip(predictions, y)])\n",
    "FN = sum([(not p and l) for (p,l) in zip(predictions, y)])"
   ]
  },
  {
   "cell_type": "code",
   "execution_count": 314,
   "id": "a91bc912-8a32-40b2-8340-e5769fbf362c",
   "metadata": {},
   "outputs": [
    {
     "data": {
      "text/plain": [
       "(44941, 1226, 5513, 6751)"
      ]
     },
     "execution_count": 314,
     "metadata": {},
     "output_type": "execute_result"
    }
   ],
   "source": [
    "TP,FP,TN,FN"
   ]
  },
  {
   "cell_type": "code",
   "execution_count": 315,
   "id": "07b9b232-6e9d-4e15-b28a-237085a6e3ab",
   "metadata": {},
   "outputs": [],
   "source": [
    "TPR = TP / (TP + FN)\n",
    "TNR = TN / (TN + FP)"
   ]
  },
  {
   "cell_type": "code",
   "execution_count": 316,
   "id": "129975c8-269f-4fc1-b180-69d73995a321",
   "metadata": {},
   "outputs": [
    {
     "data": {
      "text/plain": [
       "0.15626329078013956"
      ]
     },
     "execution_count": 316,
     "metadata": {},
     "output_type": "execute_result"
    }
   ],
   "source": [
    "BER = 1 - 1/2 * (TPR + TNR)\n",
    "BER"
   ]
  },
  {
   "cell_type": "code",
   "execution_count": 311,
   "id": "bce86782-ea6b-497c-8999-74d3bdf0e2fa",
   "metadata": {},
   "outputs": [],
   "source": [
    "precision = TP / (TP + FP)\n",
    "recall = TP / (TP + FN)"
   ]
  },
  {
   "cell_type": "code",
   "execution_count": 312,
   "id": "da468212-6da5-4eed-89cf-d21fb1b68e8b",
   "metadata": {},
   "outputs": [
    {
     "data": {
      "text/plain": [
       "(0.9734442350596747, 0.8693995202352395)"
      ]
     },
     "execution_count": 312,
     "metadata": {},
     "output_type": "execute_result"
    }
   ],
   "source": [
    "precision, recall"
   ]
  },
  {
   "cell_type": "code",
   "execution_count": 313,
   "id": "4c657686-5d53-4dbb-aaed-8d6aa1f9472d",
   "metadata": {},
   "outputs": [
    {
     "data": {
      "text/plain": [
       "0.918484758683412"
      ]
     },
     "execution_count": 313,
     "metadata": {},
     "output_type": "execute_result"
    }
   ],
   "source": [
    "F1 = 2 * (precision*recall) / (precision + recall)\n",
    "F1"
   ]
  },
  {
   "cell_type": "code",
   "execution_count": 306,
   "id": "cebcab73-c3e6-4d1f-a105-a0f6eba67aa4",
   "metadata": {},
   "outputs": [
    {
     "data": {
      "text/plain": [
       "0.7901114134620322"
      ]
     },
     "execution_count": 306,
     "metadata": {},
     "output_type": "execute_result"
    }
   ],
   "source": [
    "correct = predictions == [1]*len(predictions)\n",
    "sum(correct) / len(correct)"
   ]
  },
  {
   "cell_type": "code",
   "execution_count": 308,
   "id": "5d4e8401-a78b-4073-aaa6-e02d58b2dce2",
   "metadata": {},
   "outputs": [
    {
     "data": {
      "text/plain": [
       "0.20988858653796785"
      ]
     },
     "execution_count": 308,
     "metadata": {},
     "output_type": "execute_result"
    }
   ],
   "source": [
    "correct = predictions == [0]*len(predictions)\n",
    "sum(correct) / len(correct)"
   ]
  },
  {
   "cell_type": "code",
   "execution_count": null,
   "id": "6267fa01-8479-45bc-ba4f-4b67a2dc76ab",
   "metadata": {},
   "outputs": [],
   "source": []
  },
  {
   "cell_type": "code",
   "execution_count": null,
   "id": "98583ddc-86c1-42b5-934d-9d56de52216f",
   "metadata": {},
   "outputs": [],
   "source": []
  },
  {
   "cell_type": "markdown",
   "id": "13adadc7-698e-4c2c-9bff-894936775eb0",
   "metadata": {},
   "source": [
    "#### Given the review text, classify if other users would have found it helpful or not helpful. If there is no data available, we can classify it as not helpful"
   ]
  },
  {
   "cell_type": "code",
   "execution_count": 244,
   "id": "304a1859-89bf-4919-8803-c4df66c91e0d",
   "metadata": {},
   "outputs": [],
   "source": [
    "X = [feature(d) for d in list(reviewsText.values())]\n",
    "y = [1 if key in helpfulDict.keys() else 0 for key in reviewDict.keys()]"
   ]
  },
  {
   "cell_type": "code",
   "execution_count": 245,
   "id": "73870d8d-99fd-4a7e-9ca9-9871925affb5",
   "metadata": {},
   "outputs": [
    {
     "name": "stderr",
     "output_type": "stream",
     "text": [
      "/opt/conda/lib/python3.10/site-packages/sklearn/linear_model/_logistic.py:444: ConvergenceWarning: lbfgs failed to converge (status=1):\n",
      "STOP: TOTAL NO. of ITERATIONS REACHED LIMIT.\n",
      "\n",
      "Increase the number of iterations (max_iter) or scale the data as shown in:\n",
      "    https://scikit-learn.org/stable/modules/preprocessing.html\n",
      "Please also refer to the documentation for alternative solver options:\n",
      "    https://scikit-learn.org/stable/modules/linear_model.html#logistic-regression\n",
      "  n_iter_i = _check_optimize_result(\n"
     ]
    },
    {
     "data": {
      "text/html": [
       "<style>#sk-container-id-1 {color: black;background-color: white;}#sk-container-id-1 pre{padding: 0;}#sk-container-id-1 div.sk-toggleable {background-color: white;}#sk-container-id-1 label.sk-toggleable__label {cursor: pointer;display: block;width: 100%;margin-bottom: 0;padding: 0.3em;box-sizing: border-box;text-align: center;}#sk-container-id-1 label.sk-toggleable__label-arrow:before {content: \"▸\";float: left;margin-right: 0.25em;color: #696969;}#sk-container-id-1 label.sk-toggleable__label-arrow:hover:before {color: black;}#sk-container-id-1 div.sk-estimator:hover label.sk-toggleable__label-arrow:before {color: black;}#sk-container-id-1 div.sk-toggleable__content {max-height: 0;max-width: 0;overflow: hidden;text-align: left;background-color: #f0f8ff;}#sk-container-id-1 div.sk-toggleable__content pre {margin: 0.2em;color: black;border-radius: 0.25em;background-color: #f0f8ff;}#sk-container-id-1 input.sk-toggleable__control:checked~div.sk-toggleable__content {max-height: 200px;max-width: 100%;overflow: auto;}#sk-container-id-1 input.sk-toggleable__control:checked~label.sk-toggleable__label-arrow:before {content: \"▾\";}#sk-container-id-1 div.sk-estimator input.sk-toggleable__control:checked~label.sk-toggleable__label {background-color: #d4ebff;}#sk-container-id-1 div.sk-label input.sk-toggleable__control:checked~label.sk-toggleable__label {background-color: #d4ebff;}#sk-container-id-1 input.sk-hidden--visually {border: 0;clip: rect(1px 1px 1px 1px);clip: rect(1px, 1px, 1px, 1px);height: 1px;margin: -1px;overflow: hidden;padding: 0;position: absolute;width: 1px;}#sk-container-id-1 div.sk-estimator {font-family: monospace;background-color: #f0f8ff;border: 1px dotted black;border-radius: 0.25em;box-sizing: border-box;margin-bottom: 0.5em;}#sk-container-id-1 div.sk-estimator:hover {background-color: #d4ebff;}#sk-container-id-1 div.sk-parallel-item::after {content: \"\";width: 100%;border-bottom: 1px solid gray;flex-grow: 1;}#sk-container-id-1 div.sk-label:hover label.sk-toggleable__label {background-color: #d4ebff;}#sk-container-id-1 div.sk-serial::before {content: \"\";position: absolute;border-left: 1px solid gray;box-sizing: border-box;top: 0;bottom: 0;left: 50%;z-index: 0;}#sk-container-id-1 div.sk-serial {display: flex;flex-direction: column;align-items: center;background-color: white;padding-right: 0.2em;padding-left: 0.2em;position: relative;}#sk-container-id-1 div.sk-item {position: relative;z-index: 1;}#sk-container-id-1 div.sk-parallel {display: flex;align-items: stretch;justify-content: center;background-color: white;position: relative;}#sk-container-id-1 div.sk-item::before, #sk-container-id-1 div.sk-parallel-item::before {content: \"\";position: absolute;border-left: 1px solid gray;box-sizing: border-box;top: 0;bottom: 0;left: 50%;z-index: -1;}#sk-container-id-1 div.sk-parallel-item {display: flex;flex-direction: column;z-index: 1;position: relative;background-color: white;}#sk-container-id-1 div.sk-parallel-item:first-child::after {align-self: flex-end;width: 50%;}#sk-container-id-1 div.sk-parallel-item:last-child::after {align-self: flex-start;width: 50%;}#sk-container-id-1 div.sk-parallel-item:only-child::after {width: 0;}#sk-container-id-1 div.sk-dashed-wrapped {border: 1px dashed gray;margin: 0 0.4em 0.5em 0.4em;box-sizing: border-box;padding-bottom: 0.4em;background-color: white;}#sk-container-id-1 div.sk-label label {font-family: monospace;font-weight: bold;display: inline-block;line-height: 1.2em;}#sk-container-id-1 div.sk-label-container {text-align: center;}#sk-container-id-1 div.sk-container {/* jupyter's `normalize.less` sets `[hidden] { display: none; }` but bootstrap.min.css set `[hidden] { display: none !important; }` so we also need the `!important` here to be able to override the default hidden behavior on the sphinx rendered scikit-learn.org. See: https://github.com/scikit-learn/scikit-learn/issues/21755 */display: inline-block !important;position: relative;}#sk-container-id-1 div.sk-text-repr-fallback {display: none;}</style><div id=\"sk-container-id-1\" class=\"sk-top-container\"><div class=\"sk-text-repr-fallback\"><pre>LogisticRegression(C=1, class_weight=&#x27;balanced&#x27;)</pre><b>In a Jupyter environment, please rerun this cell to show the HTML representation or trust the notebook. <br />On GitHub, the HTML representation is unable to render, please try loading this page with nbviewer.org.</b></div><div class=\"sk-container\" hidden><div class=\"sk-item\"><div class=\"sk-estimator sk-toggleable\"><input class=\"sk-toggleable__control sk-hidden--visually\" id=\"sk-estimator-id-1\" type=\"checkbox\" checked><label for=\"sk-estimator-id-1\" class=\"sk-toggleable__label sk-toggleable__label-arrow\">LogisticRegression</label><div class=\"sk-toggleable__content\"><pre>LogisticRegression(C=1, class_weight=&#x27;balanced&#x27;)</pre></div></div></div></div></div>"
      ],
      "text/plain": [
       "LogisticRegression(C=1, class_weight='balanced')"
      ]
     },
     "execution_count": 245,
     "metadata": {},
     "output_type": "execute_result"
    }
   ],
   "source": [
    "mod = linear_model.LogisticRegression(C=1,class_weight='balanced')\n",
    "mod.fit(X,y)"
   ]
  },
  {
   "cell_type": "code",
   "execution_count": 246,
   "id": "563fab9a-6ea4-4b08-b7ce-8443b6d52812",
   "metadata": {},
   "outputs": [],
   "source": [
    "predictions = mod.predict(X)"
   ]
  },
  {
   "cell_type": "code",
   "execution_count": 247,
   "id": "103791f3-5d72-439e-90dd-701cff879a75",
   "metadata": {},
   "outputs": [
    {
     "data": {
      "text/plain": [
       "0.5733771456932107"
      ]
     },
     "execution_count": 247,
     "metadata": {},
     "output_type": "execute_result"
    }
   ],
   "source": [
    "correct = predictions == y\n",
    "sum(correct) / len(correct)"
   ]
  },
  {
   "cell_type": "code",
   "execution_count": 248,
   "id": "817be97b-2095-46b7-81db-06198600620c",
   "metadata": {},
   "outputs": [
    {
     "data": {
      "text/plain": [
       "0.36365970118601426"
      ]
     },
     "execution_count": 248,
     "metadata": {},
     "output_type": "execute_result"
    }
   ],
   "source": [
    "correct = predictions == [1]*len(predictions)\n",
    "sum(correct) / len(correct)"
   ]
  },
  {
   "cell_type": "code",
   "execution_count": 249,
   "id": "c5263649-56a0-40ff-bac8-2db47ad15c99",
   "metadata": {},
   "outputs": [
    {
     "data": {
      "text/plain": [
       "0.6363402988139857"
      ]
     },
     "execution_count": 249,
     "metadata": {},
     "output_type": "execute_result"
    }
   ],
   "source": [
    "correct = predictions == [0]*len(predictions)\n",
    "sum(correct) / len(correct)"
   ]
  },
  {
   "cell_type": "code",
   "execution_count": null,
   "id": "a8744f1b-d527-4b1b-9f11-cdf273a54da9",
   "metadata": {},
   "outputs": [],
   "source": []
  },
  {
   "cell_type": "code",
   "execution_count": null,
   "id": "fe137d69-febe-49a3-80d1-2ec5037cec6a",
   "metadata": {},
   "outputs": [],
   "source": []
  },
  {
   "cell_type": "code",
   "execution_count": null,
   "id": "26139d24-29b0-42b5-a995-65f9eeb3b66d",
   "metadata": {},
   "outputs": [],
   "source": []
  },
  {
   "cell_type": "code",
   "execution_count": null,
   "id": "59bd4eaf-c47e-4618-9c0c-bd6a4b932f7f",
   "metadata": {},
   "outputs": [],
   "source": []
  },
  {
   "cell_type": "markdown",
   "id": "ab1ec41b-efe9-44b8-bf8f-4eaa634e4f20",
   "metadata": {},
   "source": [
    "### User Items"
   ]
  },
  {
   "cell_type": "markdown",
   "id": "3a720f34-4448-401d-a796-1cd40b0a3d5c",
   "metadata": {},
   "source": [
    "#### Bayesian Personalized Ranking (Implicit)\n"
   ]
  },
  {
   "cell_type": "code",
   "execution_count": 3,
   "id": "4d008e60-5639-4b05-aa22-9e23edea5a8a",
   "metadata": {},
   "outputs": [],
   "source": [
    "users_items = list(parseData(\"australian_users_items.json.gz\"))"
   ]
  },
  {
   "cell_type": "code",
   "execution_count": 252,
   "id": "5c3a6233-07e1-4b60-b8ec-15916895428d",
   "metadata": {},
   "outputs": [],
   "source": [
    "random.shuffle(users_items)"
   ]
  },
  {
   "cell_type": "code",
   "execution_count": 10,
   "id": "8817323d-304b-4189-9242-7544e8c26816",
   "metadata": {},
   "outputs": [
    {
     "data": {
      "text/plain": [
       "88310"
      ]
     },
     "execution_count": 10,
     "metadata": {},
     "output_type": "execute_result"
    }
   ],
   "source": [
    "len(users_items)"
   ]
  },
  {
   "cell_type": "code",
   "execution_count": 285,
   "id": "b6bcf8ff-b716-44e9-835e-5248d72e1710",
   "metadata": {},
   "outputs": [],
   "source": [
    "itemID2name = {}"
   ]
  },
  {
   "cell_type": "code",
   "execution_count": 286,
   "id": "5f7e0fd8-8b4c-4333-b132-fe987122dcf9",
   "metadata": {},
   "outputs": [],
   "source": [
    "userIDs,itemIDs = {},{}\n",
    "for user_items in users_items:\n",
    "    user = user_items['user_id']\n",
    "    items = user_items['items']\n",
    "    for item in items:\n",
    "        if not user in userIDs: userIDs[user] = len(userIDs)\n",
    "        itemID2name[len(itemIDs)] = item['item_name']\n",
    "        if not item['item_name'] in itemIDs: itemIDs[item['item_name']] = len(itemIDs)\n",
    "nUsers, nItems = len(userIDs), len(itemIDs)"
   ]
  },
  {
   "cell_type": "code",
   "execution_count": 280,
   "id": "ff1c5dda-bffc-4cd5-b66c-6d59ae0e96d0",
   "metadata": {},
   "outputs": [
    {
     "data": {
      "text/plain": [
       "(70912, 10947)"
      ]
     },
     "execution_count": 280,
     "metadata": {},
     "output_type": "execute_result"
    }
   ],
   "source": [
    "nUsers, nItems"
   ]
  },
  {
   "cell_type": "code",
   "execution_count": 266,
   "id": "b6f08511-ef3d-4fb0-8e4a-d8bc9d4c7a5a",
   "metadata": {},
   "outputs": [],
   "source": [
    "Xiu = scipy.sparse.lil_matrix((nItems, nUsers))\n",
    "for user_items in users_items:\n",
    "    user = user_items['user_id']\n",
    "    items = user_items['items']\n",
    "    for item in items:\n",
    "        Xiu[itemIDs[item['item_name']],userIDs[user]] = 1\n",
    "    \n",
    "Xui = scipy.sparse.csr_matrix(Xiu.T)"
   ]
  },
  {
   "cell_type": "code",
   "execution_count": 270,
   "id": "77ad90a5-a394-48a1-84d4-665a9409a2f3",
   "metadata": {},
   "outputs": [],
   "source": [
    "model = bpr.BayesianPersonalizedRanking(factors = 5)"
   ]
  },
  {
   "cell_type": "code",
   "execution_count": 271,
   "id": "a6d26353-6379-48c5-b9ee-6581f84fb669",
   "metadata": {},
   "outputs": [
    {
     "name": "stderr",
     "output_type": "stream",
     "text": [
      "/opt/conda/lib/python3.10/site-packages/implicit/utils.py:138: ParameterWarning: Method expects CSR input, and was passed lil_matrix instead. Converting to CSR took 0.045017242431640625 seconds\n",
      "  warnings.warn(\n"
     ]
    },
    {
     "data": {
      "application/vnd.jupyter.widget-view+json": {
       "model_id": "8625097bbbf048c4ac9ade764f3d87a5",
       "version_major": 2,
       "version_minor": 0
      },
      "text/plain": [
       "  0%|          | 0/100 [00:00<?, ?it/s]"
      ]
     },
     "metadata": {},
     "output_type": "display_data"
    }
   ],
   "source": [
    "model.fit(Xiu)"
   ]
  },
  {
   "cell_type": "code",
   "execution_count": 334,
   "id": "0c4f9f1e-b89c-4d45-a77d-988c7bf372b2",
   "metadata": {},
   "outputs": [],
   "source": [
    "recommended = model.recommend(1, Xui[0])\n",
    "related = model.similar_items(0)"
   ]
  },
  {
   "cell_type": "code",
   "execution_count": 335,
   "id": "10edbae5-aac2-48ba-92de-27980b900bbf",
   "metadata": {},
   "outputs": [
    {
     "data": {
      "text/plain": [
       "(array([ 9152,  1505, 10455, 22923, 70235, 22689, 68554, 60317, 38557,\n",
       "        23438], dtype=int32),\n",
       " array([3.192482 , 3.0767026, 3.060937 , 3.0302594, 2.9725742, 2.9597814,\n",
       "        2.9394724, 2.9125116, 2.910664 , 2.89942  ], dtype=float32))"
      ]
     },
     "execution_count": 335,
     "metadata": {},
     "output_type": "execute_result"
    }
   ],
   "source": [
    "recommended"
   ]
  },
  {
   "cell_type": "code",
   "execution_count": 336,
   "id": "ac756242-f21a-4bd9-88dd-682fc75f1125",
   "metadata": {},
   "outputs": [
    {
     "data": {
      "text/plain": [
       "(array([    0, 20095, 67715,  5529, 29837, 31496, 37272, 70471, 58916,\n",
       "        50807], dtype=int32),\n",
       " array([1.        , 0.986686  , 0.9866456 , 0.9858376 , 0.9826948 ,\n",
       "        0.9812837 , 0.9798184 , 0.9775761 , 0.9768033 , 0.97485054],\n",
       "       dtype=float32))"
      ]
     },
     "execution_count": 336,
     "metadata": {},
     "output_type": "execute_result"
    }
   ],
   "source": [
    "related"
   ]
  },
  {
   "cell_type": "code",
   "execution_count": null,
   "id": "47de291e-a162-4278-85ec-c83bbc7bbb89",
   "metadata": {},
   "outputs": [],
   "source": [
    "related[0]"
   ]
  },
  {
   "cell_type": "code",
   "execution_count": null,
   "id": "0ff17f94-1ef9-4abe-9f82-eddcaacfbd16",
   "metadata": {},
   "outputs": [],
   "source": []
  },
  {
   "cell_type": "code",
   "execution_count": 337,
   "id": "92c51fa6-05b0-40df-9ea7-ae7ab1f1a32a",
   "metadata": {},
   "outputs": [
    {
     "name": "stdout",
     "output_type": "stream",
     "text": [
      "True\n",
      "False\n",
      "False\n",
      "True\n",
      "False\n",
      "False\n",
      "False\n",
      "False\n",
      "False\n",
      "False\n"
     ]
    }
   ],
   "source": [
    "for idx in [0, 20095, 67715,  5529, 29837, 31496, 37272, 70471, 58916, 50807]:\n",
    "    print(idx in itemID2name.keys())\n",
    "    #print(itemID2name[idx])"
   ]
  },
  {
   "cell_type": "code",
   "execution_count": null,
   "id": "dec56279-b279-4cef-bf81-52c90208bb05",
   "metadata": {},
   "outputs": [],
   "source": []
  },
  {
   "cell_type": "markdown",
   "id": "f60a50cb-09c5-44d7-ad81-3c08dd1373fc",
   "metadata": {
    "tags": []
   },
   "source": []
  },
  {
   "cell_type": "code",
   "execution_count": null,
   "id": "0eafa8d2-c129-44f6-9f8e-427b709bd6d9",
   "metadata": {},
   "outputs": [],
   "source": []
  },
  {
   "cell_type": "code",
   "execution_count": null,
   "id": "7241fc22-b033-4396-ba74-557b7dfd8ce8",
   "metadata": {},
   "outputs": [],
   "source": []
  },
  {
   "cell_type": "code",
   "execution_count": null,
   "id": "292d2405-d86b-4c75-a1e8-67cd5413d7ba",
   "metadata": {},
   "outputs": [],
   "source": []
  },
  {
   "cell_type": "code",
   "execution_count": null,
   "id": "6236784d-e001-491d-8b60-8d8f081ee916",
   "metadata": {},
   "outputs": [],
   "source": []
  },
  {
   "cell_type": "code",
   "execution_count": null,
   "id": "3f371430-e8c6-4ad1-8eee-a13946f05ee4",
   "metadata": {},
   "outputs": [],
   "source": []
  },
  {
   "cell_type": "markdown",
   "id": "59813615-2e70-42dc-83b3-f3c15b2a1a7a",
   "metadata": {},
   "source": [
    "#### Games"
   ]
  },
  {
   "cell_type": "code",
   "execution_count": null,
   "id": "66ea457b-fb6a-40fb-b3e5-cfd55a4ecde6",
   "metadata": {},
   "outputs": [],
   "source": [
    "games = list(parseData(\"steam_games.json.gz\"))"
   ]
  },
  {
   "cell_type": "code",
   "execution_count": null,
   "id": "4b9fb1a6-6b5f-48a7-836e-485c31cffeec",
   "metadata": {},
   "outputs": [
    {
     "data": {
      "text/plain": [
       "{'publisher': 'Kotoshiro',\n",
       " 'genres': ['Action', 'Casual', 'Indie', 'Simulation', 'Strategy'],\n",
       " 'app_name': 'Lost Summoner Kitty',\n",
       " 'title': 'Lost Summoner Kitty',\n",
       " 'url': 'http://store.steampowered.com/app/761140/Lost_Summoner_Kitty/',\n",
       " 'release_date': '2018-01-04',\n",
       " 'tags': ['Strategy', 'Action', 'Indie', 'Casual', 'Simulation'],\n",
       " 'discount_price': 4.49,\n",
       " 'reviews_url': 'http://steamcommunity.com/app/761140/reviews/?browsefilter=mostrecent&p=1',\n",
       " 'specs': ['Single-player'],\n",
       " 'price': 4.99,\n",
       " 'early_access': False,\n",
       " 'id': '761140',\n",
       " 'developer': 'Kotoshiro'}"
      ]
     },
     "execution_count": 12,
     "metadata": {},
     "output_type": "execute_result"
    }
   ],
   "source": [
    "games[0]"
   ]
  },
  {
   "cell_type": "code",
   "execution_count": 15,
   "id": "0f8fec9e-60aa-4a68-897a-9fa7d3084518",
   "metadata": {},
   "outputs": [
    {
     "data": {
      "text/plain": [
       "32135"
      ]
     },
     "execution_count": 15,
     "metadata": {},
     "output_type": "execute_result"
    }
   ],
   "source": [
    "len(games)"
   ]
  },
  {
   "cell_type": "code",
   "execution_count": 13,
   "id": "d4565ddd-e702-4222-acce-8e6c4d746e58",
   "metadata": {},
   "outputs": [],
   "source": [
    "bundles = list(parseData(\"bundle_data.json.gz\"))"
   ]
  },
  {
   "cell_type": "code",
   "execution_count": 319,
   "id": "61c714d3-3892-46cb-9307-ab8e2bca0974",
   "metadata": {},
   "outputs": [],
   "source": [
    "itemsPerBundle = defaultdict(set)\n",
    "bundleNames = {}\n",
    "itemNames = {}"
   ]
  },
  {
   "cell_type": "code",
   "execution_count": 320,
   "id": "f26451a0-ec1a-4780-9f61-23088c67531c",
   "metadata": {},
   "outputs": [],
   "source": [
    "for bundle in bundles:\n",
    "    bundle_id = bundle['bundle_id']\n",
    "    bundleNames[bundle_id] = bundle['bundle_name']\n",
    "    items = bundle['items']\n",
    "    for item in items:\n",
    "        itemsPerBundle[bundle_id].add(item['item_id'])\n",
    "        itemNames[item['item_id']] = item['item_name']"
   ]
  },
  {
   "cell_type": "code",
   "execution_count": 322,
   "id": "9a849942-f8b9-49fb-b7c9-9f70c8bf1e78",
   "metadata": {},
   "outputs": [
    {
     "data": {
      "text/plain": [
       "{'326950',\n",
       " '331490',\n",
       " '331491',\n",
       " '331492',\n",
       " '348540',\n",
       " '352010',\n",
       " '387110',\n",
       " '387120',\n",
       " '390470',\n",
       " '394050',\n",
       " '396610',\n",
       " '396620',\n",
       " '398100',\n",
       " '408770'}"
      ]
     },
     "execution_count": 322,
     "metadata": {},
     "output_type": "execute_result"
    }
   ],
   "source": [
    "itemsPerBundle['450']"
   ]
  },
  {
   "cell_type": "code",
   "execution_count": 332,
   "id": "39806859-e56b-45cd-a401-704947919bcc",
   "metadata": {},
   "outputs": [
    {
     "data": {
      "text/plain": [
       "{'bundle_final_price': '$20.15',\n",
       " 'bundle_url': 'http://store.steampowered.com/bundle/1473/?utm_source=SteamDB&utm_medium=SteamDB&utm_campaign=SteamDB%20Bundles%20Page',\n",
       " 'bundle_price': '$25.87',\n",
       " 'bundle_name': 'Naruto Shippuden Uncut Season 4, Vol. 3',\n",
       " 'bundle_id': '1473',\n",
       " 'items': [{'genre': '',\n",
       "   'item_id': '528360',\n",
       "   'discounted_price': '$1.99',\n",
       "   'item_url': 'http://store.steampowered.com/app/528360',\n",
       "   'item_name': 'Naruto Shippuden Uncut: The Man Who Died Twice'},\n",
       "  {'genre': '',\n",
       "   'item_id': '528361',\n",
       "   'discounted_price': '$1.99',\n",
       "   'item_url': 'http://store.steampowered.com/app/528361',\n",
       "   'item_name': 'Naruto Shippuden Uncut: The Worst Three-Legged Race'},\n",
       "  {'genre': '',\n",
       "   'item_id': '528362',\n",
       "   'discounted_price': '$1.99',\n",
       "   'item_url': 'http://store.steampowered.com/app/528362',\n",
       "   'item_name': \"Naruto Shippuden Uncut: Team 10's Teamwork\"},\n",
       "  {'genre': '',\n",
       "   'item_id': '528363',\n",
       "   'discounted_price': '$1.99',\n",
       "   'item_url': 'http://store.steampowered.com/app/528363',\n",
       "   'item_name': 'Naruto Shippuden Uncut: Drive Towards Darkness'},\n",
       "  {'genre': '',\n",
       "   'item_id': '528364',\n",
       "   'discounted_price': '$1.99',\n",
       "   'item_url': 'http://store.steampowered.com/app/528364',\n",
       "   'item_name': 'Naruto Shippuden Uncut: The Sixth Hokage Danzo'},\n",
       "  {'genre': '',\n",
       "   'item_id': '528365',\n",
       "   'discounted_price': '$1.99',\n",
       "   'item_url': 'http://store.steampowered.com/app/528365',\n",
       "   'item_name': 'Naruto Shippuden Uncut: The Eve of the Five Kage Summit'},\n",
       "  {'genre': '',\n",
       "   'item_id': '528366',\n",
       "   'discounted_price': '$1.99',\n",
       "   'item_url': 'http://store.steampowered.com/app/528366',\n",
       "   'item_name': 'Naruto Shippuden Uncut: Enter the Five Kage!'},\n",
       "  {'genre': '',\n",
       "   'item_id': '528367',\n",
       "   'discounted_price': '$1.99',\n",
       "   'item_url': 'http://store.steampowered.com/app/528367',\n",
       "   'item_name': \"Naruto Shippuden Uncut: Naruto's Plea\"},\n",
       "  {'genre': '',\n",
       "   'item_id': '528368',\n",
       "   'discounted_price': '$1.99',\n",
       "   'item_url': 'http://store.steampowered.com/app/528368',\n",
       "   'item_name': 'Naruto Shippuden Uncut: A Painful Decision'},\n",
       "  {'genre': '',\n",
       "   'item_id': '528369',\n",
       "   'discounted_price': '$1.99',\n",
       "   'item_url': 'http://store.steampowered.com/app/528369',\n",
       "   'item_name': 'Naruto Shippuden Uncut: Racing Lightning'},\n",
       "  {'genre': '',\n",
       "   'item_id': '528370',\n",
       "   'discounted_price': '$1.99',\n",
       "   'item_url': 'http://store.steampowered.com/app/528370',\n",
       "   'item_name': \"Naruto Shippuden Uncut: Sasuke's Ninja Way\"},\n",
       "  {'genre': '',\n",
       "   'item_id': '528371',\n",
       "   'discounted_price': '$1.99',\n",
       "   'item_url': 'http://store.steampowered.com/app/528371',\n",
       "   'item_name': 'Naruto Shippuden Uncut: Power of the Five Kage'},\n",
       "  {'genre': '',\n",
       "   'item_id': '528372',\n",
       "   'discounted_price': '$1.99',\n",
       "   'item_url': 'http://store.steampowered.com/app/528372',\n",
       "   'item_name': 'Naruto Shippuden Uncut: Declaration of War'}],\n",
       " 'bundle_discount': '22%'}"
      ]
     },
     "execution_count": 332,
     "metadata": {},
     "output_type": "execute_result"
    }
   ],
   "source": [
    "bundles[1]"
   ]
  },
  {
   "cell_type": "code",
   "execution_count": 339,
   "id": "cc6bb2a4-abb3-4a8d-9d99-d07046c5b6ce",
   "metadata": {},
   "outputs": [],
   "source": [
    "all_bundle_ids = [bundle['bundle_id'] for bundle in bundles]"
   ]
  },
  {
   "cell_type": "code",
   "execution_count": null,
   "id": "5d41d052-4a24-4bcc-9304-23ed7ce53287",
   "metadata": {},
   "outputs": [],
   "source": []
  },
  {
   "cell_type": "markdown",
   "id": "5ff766ed-b5b3-4c20-b0ee-918dc91b34c9",
   "metadata": {},
   "source": [
    "#### Recommending the most similar bundles"
   ]
  },
  {
   "cell_type": "code",
   "execution_count": 346,
   "id": "ceae96cd-eb5d-4476-a644-e6740254ba7f",
   "metadata": {},
   "outputs": [],
   "source": [
    "def Jaccard(s1, s2):\n",
    "    numer = len(s1.intersection(s2))\n",
    "    denom = len(s1.union(s2))\n",
    "    if denom == 0:\n",
    "        return 0\n",
    "    return numer / denom"
   ]
  },
  {
   "cell_type": "code",
   "execution_count": 348,
   "id": "46147a2b-3366-4404-8e26-3057735ca9d3",
   "metadata": {},
   "outputs": [],
   "source": [
    "def mostSimilar(i, N):\n",
    "    similarities = []\n",
    "    items = itemsPerBundle[i]\n",
    "    for i2 in itemsPerBundle:\n",
    "        if i2 == i: continue\n",
    "        sim = Jaccard(items, itemsPerBundle[i2])\n",
    "        #sim = Pearson(i, i2) # Could use alternate similarity metrics straightforwardly\n",
    "        similarities.append((sim,i2))\n",
    "    similarities.sort(reverse=True)\n",
    "    return similarities[:10]"
   ]
  },
  {
   "cell_type": "code",
   "execution_count": 351,
   "id": "b254a909-d6f9-4da6-8948-31b60f1dc5da",
   "metadata": {},
   "outputs": [],
   "source": [
    "ms = mostSimilar(all_bundle_ids[4], 10)"
   ]
  },
  {
   "cell_type": "code",
   "execution_count": 352,
   "id": "b1061ad2-59f1-4344-bbd9-cb3898d68dfa",
   "metadata": {},
   "outputs": [
    {
     "data": {
      "text/plain": [
       "[(0.0, '995'),\n",
       " (0.0, '990'),\n",
       " (0.0, '984'),\n",
       " (0.0, '983'),\n",
       " (0.0, '982'),\n",
       " (0.0, '977'),\n",
       " (0.0, '974'),\n",
       " (0.0, '972'),\n",
       " (0.0, '963'),\n",
       " (0.0, '962')]"
      ]
     },
     "execution_count": 352,
     "metadata": {},
     "output_type": "execute_result"
    }
   ],
   "source": [
    "ms"
   ]
  },
  {
   "cell_type": "code",
   "execution_count": null,
   "id": "804859cf-0422-4085-a8c4-f00eb7220fc9",
   "metadata": {},
   "outputs": [],
   "source": []
  },
  {
   "cell_type": "code",
   "execution_count": null,
   "id": "c2bda9a9-ed4a-4886-bff3-44ca8935694c",
   "metadata": {},
   "outputs": [],
   "source": []
  },
  {
   "cell_type": "code",
   "execution_count": null,
   "id": "156ac851-14ea-4197-9316-dc226e504476",
   "metadata": {},
   "outputs": [],
   "source": [
    "def Jaccard(s1, s2):\n",
    "    numer = len(s1.intersection(s2))\n",
    "    denom = len(s1.union(s2))\n",
    "    if denom > 0:\n",
    "        return numer/denom\n",
    "    return 0"
   ]
  },
  {
   "cell_type": "code",
   "execution_count": null,
   "id": "5c09361b-51d2-460d-81b1-1ca98f3904cc",
   "metadata": {},
   "outputs": [],
   "source": [
    "def mostSimilar(i, N):\n",
    "    similarities = []\n",
    "    users = usersPerItem[i]\n",
    "    for i2 in usersPerItem:\n",
    "        if i2 == i: continue\n",
    "        sim = Jaccard(users, usersPerItem[i2])\n",
    "        #sim = Pearson(i, i2) # Could use alternate similarity metrics straightforwardly\n",
    "        similarities.append((sim,i2))\n",
    "    similarities.sort(reverse=True)\n",
    "    return similarities[:10]"
   ]
  },
  {
   "cell_type": "code",
   "execution_count": null,
   "id": "f9ae1333-db46-4014-a0a8-678d0850e33f",
   "metadata": {},
   "outputs": [],
   "source": [
    "ms = mostSimilar(query, 10)"
   ]
  },
  {
   "cell_type": "code",
   "execution_count": null,
   "id": "dcd5d452-c893-446d-ac6e-d59a56c4c8d7",
   "metadata": {},
   "outputs": [],
   "source": []
  },
  {
   "cell_type": "code",
   "execution_count": null,
   "id": "8798117e-3f3e-4bb8-8b3c-7ad32d9eb1ac",
   "metadata": {},
   "outputs": [],
   "source": []
  },
  {
   "cell_type": "code",
   "execution_count": null,
   "id": "3999286e-f9f2-41ed-997d-2258713c5dc8",
   "metadata": {},
   "outputs": [],
   "source": []
  },
  {
   "cell_type": "code",
   "execution_count": null,
   "id": "12bfee17-fda5-4c09-b442-76756667dcb9",
   "metadata": {},
   "outputs": [],
   "source": []
  },
  {
   "cell_type": "code",
   "execution_count": null,
   "id": "7f032476-50dc-4455-bb61-31ad3db31889",
   "metadata": {},
   "outputs": [],
   "source": []
  },
  {
   "cell_type": "code",
   "execution_count": null,
   "id": "fb4cb408-cd8c-4da1-84e7-25fdac2d4c47",
   "metadata": {},
   "outputs": [],
   "source": []
  },
  {
   "cell_type": "code",
   "execution_count": null,
   "id": "f3d86976-c262-48b2-ad8d-079b0250dea8",
   "metadata": {},
   "outputs": [],
   "source": []
  },
  {
   "cell_type": "code",
   "execution_count": null,
   "id": "2cee0cb9-96a1-4365-80f6-6b972648155d",
   "metadata": {},
   "outputs": [],
   "source": []
  },
  {
   "cell_type": "markdown",
   "id": "8b4f2277-759f-44fd-aac9-6279651a6ed6",
   "metadata": {},
   "source": [
    "#### Bundle similarity based price estimation"
   ]
  },
  {
   "cell_type": "code",
   "execution_count": 358,
   "id": "e192910f-9ad9-425a-bdad-07098767e1c4",
   "metadata": {},
   "outputs": [],
   "source": [
    "itemsPerBundle = defaultdict(set)\n",
    "bundlesPerItem = defaultdict(set)"
   ]
  },
  {
   "cell_type": "code",
   "execution_count": 359,
   "id": "fc8de839-4309-43bc-9108-c41ba81d5721",
   "metadata": {},
   "outputs": [],
   "source": [
    "bundlePrices = {}"
   ]
  },
  {
   "cell_type": "code",
   "execution_count": 357,
   "id": "978942bb-a8d4-45d6-bebb-76968a0a51cf",
   "metadata": {},
   "outputs": [],
   "source": [
    "for bundle in bundles:\n",
    "    bundle_id = bundle['bundle_id']\n",
    "    bundleNames[bundle_id] = bundle['bundle_name']\n",
    "    bundlePrices[bundle_id] = bundle['bundle_final_price']\n",
    "    items = bundle['items']\n",
    "    for item in items:\n",
    "        itemsPerBundle[bundle_id].add(item['item_id'])\n",
    "        bundlesPerItem[item['item_id']].add(bundle_id)\n",
    "        itemNames[item['item_id']] = item['item_name']"
   ]
  },
  {
   "cell_type": "code",
   "execution_count": null,
   "id": "e2ba6202-c9b0-4cf3-928d-58b7d086dfec",
   "metadata": {},
   "outputs": [],
   "source": [
    "def predictRating(user, bundle):\n",
    "    prices = []\n",
    "    similarities = []\n",
    "    for d in itemsPerBundle[user]:\n",
    "        i2 = d['product_id']\n",
    "        if i2 == item: continue\n",
    "        ratings.append(d['star_rating'] - itemAverages[i2])\n",
    "        similarities.append(Jaccard(usersPerItem[item],usersPerItem[i2]))\n",
    "    if (sum(similarities) > 0):\n",
    "        weightedRatings = [(x*y) for x,y in zip(ratings,similarities)]\n",
    "        return itemAverages[item] + sum(weightedRatings) / sum(similarities)\n",
    "    else:\n",
    "        # User hasn't rated any similar items\n",
    "        return ratingMean"
   ]
  },
  {
   "cell_type": "code",
   "execution_count": null,
   "id": "168ecc4f-4c0c-485a-8f08-1c7417c153da",
   "metadata": {},
   "outputs": [],
   "source": []
  },
  {
   "cell_type": "code",
   "execution_count": null,
   "id": "31164834-8587-4ed9-99e8-99138621b01f",
   "metadata": {},
   "outputs": [],
   "source": []
  },
  {
   "cell_type": "code",
   "execution_count": null,
   "id": "0de7266d-28fd-4f97-8e46-e2ec5781e8c5",
   "metadata": {},
   "outputs": [],
   "source": []
  },
  {
   "cell_type": "code",
   "execution_count": null,
   "id": "e73de536-62a4-48cd-88a1-f2fff15ee578",
   "metadata": {},
   "outputs": [],
   "source": []
  },
  {
   "cell_type": "code",
   "execution_count": null,
   "id": "2ddc8167-ad8e-4879-984d-dc06dd01d4d9",
   "metadata": {},
   "outputs": [],
   "source": []
  },
  {
   "cell_type": "code",
   "execution_count": 327,
   "id": "6bbb9211-72b7-4832-87f1-cd735245d8b6",
   "metadata": {},
   "outputs": [],
   "source": [
    "itemLists = []\n",
    "for b in itemsPerBundle:\n",
    "    il = list(itemsPerBundle[b])\n",
    "    il.sort()\n",
    "    itemLists.append(il)"
   ]
  },
  {
   "cell_type": "code",
   "execution_count": 330,
   "id": "a275b17e-46a8-421c-bdcf-71f4060756ed",
   "metadata": {},
   "outputs": [],
   "source": [
    "model10 = Word2Vec(itemLists,\n",
    "                 min_count=5, # Words/items with fewer instances are discarded\n",
    "                 vector_size=10, # Model dimensionality\n",
    "                 window=3, # Window size\n",
    "                 sg=1) # Skip-gram model"
   ]
  },
  {
   "cell_type": "code",
   "execution_count": 345,
   "id": "67d5c946-eb2b-48f7-be85-0e4683e58a48",
   "metadata": {},
   "outputs": [],
   "source": [
    "for bundle_id in all_bundle_ids:\n",
    "    try:\n",
    "        for b in model10.wv.similar_by_word(bundle_id):\n",
    "            print(bundleNames[b])\n",
    "    except:\n",
    "        pass"
   ]
  },
  {
   "cell_type": "code",
   "execution_count": null,
   "id": "38bc12d8-50df-4a61-80fd-25da9df56065",
   "metadata": {},
   "outputs": [],
   "source": []
  },
  {
   "cell_type": "code",
   "execution_count": null,
   "id": "b3b8607f-1af1-42cf-a53c-42801df6c3f8",
   "metadata": {},
   "outputs": [],
   "source": []
  },
  {
   "cell_type": "code",
   "execution_count": null,
   "id": "82ac00cc-d31e-423e-a121-66f1caa0d8f7",
   "metadata": {},
   "outputs": [],
   "source": []
  },
  {
   "cell_type": "code",
   "execution_count": null,
   "id": "97a389bc-c200-4325-a85d-56f812bbe8f2",
   "metadata": {},
   "outputs": [],
   "source": []
  },
  {
   "cell_type": "markdown",
   "id": "d7dfa9ea-a3da-4afd-9b99-d87f1501d075",
   "metadata": {},
   "source": [
    "### Predict if a user will recommend a game"
   ]
  },
  {
   "cell_type": "code",
   "execution_count": 360,
   "id": "de70b29f-56a5-41b3-945c-6881fe016096",
   "metadata": {},
   "outputs": [],
   "source": [
    "interactions = []"
   ]
  },
  {
   "cell_type": "code",
   "execution_count": 361,
   "id": "589d417a-4b1e-4375-8606-de036f718bc1",
   "metadata": {},
   "outputs": [],
   "source": [
    "for user_review in user_reviews:\n",
    "    reviews = [review for review in user_review['reviews']]\n",
    "    for review in reviews:\n",
    "        user, item = user_review['user_id'], review['item_id']\n",
    "        review = 1 if review['recommend'] else 0\n",
    "        interactions.append((user, item, review))"
   ]
  },
  {
   "cell_type": "code",
   "execution_count": 365,
   "id": "2abc0991-c386-4403-8d5c-01b1e1ee17d0",
   "metadata": {},
   "outputs": [
    {
     "data": {
      "text/plain": [
       "59305"
      ]
     },
     "execution_count": 365,
     "metadata": {},
     "output_type": "execute_result"
    }
   ],
   "source": [
    "len(interactions)"
   ]
  },
  {
   "cell_type": "markdown",
   "id": "8feb7729-e9c7-4a20-856e-aa4505243ac8",
   "metadata": {},
   "source": [
    "##### Baseline"
   ]
  },
  {
   "cell_type": "code",
   "execution_count": 363,
   "id": "8d382496-a378-4e1c-bd18-6c881bb7f64a",
   "metadata": {},
   "outputs": [],
   "source": [
    "gameCount = defaultdict(int)\n",
    "totalRecommend = 0\n",
    "\n",
    "for user,game,recommend in interactions:\n",
    "    gameCount[game] += 1\n",
    "    totalRecommend += 1\n",
    "\n",
    "mostPopular = [(gameCount[x], x) for x in gameCount]\n",
    "mostPopular.sort()\n",
    "mostPopular.reverse()\n",
    "\n",
    "return1 = set()\n",
    "count = 0\n",
    "for ic, i in mostPopular:\n",
    "    count += ic\n",
    "    return1.add(i)\n",
    "    if count > totalRecommend/2: break"
   ]
  },
  {
   "cell_type": "code",
   "execution_count": 364,
   "id": "e8bc1d56-37e6-4f97-a57e-3c6aa836868d",
   "metadata": {},
   "outputs": [
    {
     "data": {
      "text/plain": [
       "29748"
      ]
     },
     "execution_count": 364,
     "metadata": {},
     "output_type": "execute_result"
    }
   ],
   "source": [
    "count"
   ]
  },
  {
   "cell_type": "code",
   "execution_count": 375,
   "id": "c09d0fb1-371a-4d35-8d47-10715bca9c6f",
   "metadata": {},
   "outputs": [],
   "source": [
    "ratingsValid = interactions[45000:]"
   ]
  },
  {
   "cell_type": "code",
   "execution_count": null,
   "id": "c8c1a474-ef5a-4028-82c4-dea55b39cacd",
   "metadata": {},
   "outputs": [],
   "source": [
    "userSet = set()\n",
    "gameSet = set()\n",
    "recommendSet = set()\n",
    "\n",
    "for u,g,r in interactions:\n",
    "    userSet.add(u)\n",
    "    gameSet.add(b)\n",
    "    if r==1:\n",
    "        recommendSet.add((u,b))\n",
    "\n",
    "lUserSet = list(userSet)\n",
    "lGameSet = list(gameSet)\n",
    "\n",
    "notRecommend = set()\n",
    "for u,g,r in interactions:\n",
    "    u = random.choice(lUserSet)\n",
    "    g = random.choice(lGameSet)\n",
    "    while ((u,g) in recommendSet or (u,g) in notRecommend):\n",
    "        g = random.choice(lGameSet)\n",
    "    notRecommend.add((u,g))\n",
    "\n",
    "recommendValid = set()\n",
    "for u,g,r in interactions:\n",
    "    recommendValid.add((u,g))"
   ]
  },
  {
   "cell_type": "code",
   "execution_count": 374,
   "id": "001c14d8-1aad-4395-90ab-89a3f7bd3962",
   "metadata": {},
   "outputs": [
    {
     "data": {
      "text/plain": [
       "25458"
      ]
     },
     "execution_count": 374,
     "metadata": {},
     "output_type": "execute_result"
    }
   ],
   "source": [
    "len(lUserSet)"
   ]
  },
  {
   "cell_type": "code",
   "execution_count": null,
   "id": "4253fff5-fd14-40b2-94dc-e7c0c61a93ee",
   "metadata": {},
   "outputs": [],
   "source": [
    "def Jaccard(s1, s2):\n",
    "    numer = len(s1.intersection(s2))\n",
    "    denom = len(s1.union(s2))\n",
    "    if denom > 0:\n",
    "        return numer/denom\n",
    "    return 0"
   ]
  },
  {
   "cell_type": "code",
   "execution_count": null,
   "id": "22447831-ecdb-4e57-8a36-d9d09c47a7dd",
   "metadata": {},
   "outputs": [],
   "source": [
    "correct = 0\n",
    "p0, p1 = 0,0\n",
    "for (label,sample) in [(1, readValid), (0, notRead)]:\n",
    "    for (u,b) in sample:\n",
    "        pred = 0\n",
    "        if b in return1:\n",
    "            pred = 1\n",
    "        if pred == label:\n",
    "            correct += 1"
   ]
  },
  {
   "cell_type": "code",
   "execution_count": null,
   "id": "c8a7fd84-a4b8-4743-b77a-36bd51de7d8c",
   "metadata": {},
   "outputs": [],
   "source": [
    "correct / (len(readValid) + len(notRead))"
   ]
  }
 ],
 "metadata": {
  "kernelspec": {
   "display_name": "Python 3 (ipykernel)",
   "language": "python",
   "name": "python3"
  },
  "language_info": {
   "codemirror_mode": {
    "name": "ipython",
    "version": 3
   },
   "file_extension": ".py",
   "mimetype": "text/x-python",
   "name": "python",
   "nbconvert_exporter": "python",
   "pygments_lexer": "ipython3",
   "version": "3.10.8"
  }
 },
 "nbformat": 4,
 "nbformat_minor": 5
}
